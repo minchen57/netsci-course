{
 "cells": [
  {
   "cell_type": "markdown",
   "metadata": {},
   "source": [
    "# Node centrality assignment\n",
    "For this assignment we will be exploring node centrality in an effort to get an intuitive feel for what the various centrality metrics tell us about the nodes in the graph. For this assignment we will be using the [Dolphin social network](http://www-personal.umich.edu/~mejn/netdata/dolphins.zip). Download the graph and load it as a networkx graph using the [networkx functions](https://networkx.github.io/documentation/networkx-1.10/reference/readwrite.html). If you have any difficulty loading in a graph you can attempt to load it into Gephi and then save it as a .net (pajek) and then load that version into networkx."
   ]
  },
  {
   "cell_type": "code",
   "execution_count": 34,
   "metadata": {},
   "outputs": [
    {
     "name": "stdout",
     "output_type": "stream",
     "text": [
      "Name: \n",
      "Type: Graph\n",
      "Number of nodes: 62\n",
      "Number of edges: 159\n",
      "Average degree:   5.1290\n"
     ]
    }
   ],
   "source": [
    "# Load your graph\n",
    "import networkx as nx\n",
    "G = nx.read_pajek(\"dolphins.net\")\n",
    "G = nx.Graph(G)\n",
    "print(nx.info(G))"
   ]
  },
  {
   "cell_type": "markdown",
   "metadata": {},
   "source": [
    "## Centrality in Networkx\n",
    "Networkx has several functions available for calculating the centralities of the nodes in the graph. There are functions for [eigenvector](http://networkx.readthedocs.io/en/networkx-1.11/reference/generated/networkx.algorithms.centrality.eigenvector_centrality.html), [katz](http://networkx.readthedocs.io/en/networkx-1.11/reference/generated/networkx.algorithms.centrality.katz_centrality.html), [closeness](http://networkx.readthedocs.io/en/networkx-1.11/reference/generated/networkx.algorithms.centrality.closeness_centrality.html), [betweenness](http://networkx.readthedocs.io/en/networkx-1.11/reference/generated/networkx.algorithms.centrality.betweenness_centrality.html), [degree](http://networkx.readthedocs.io/en/networkx-1.11/reference/generated/networkx.algorithms.centrality.degree_centrality.html), etc. For a full list you can visit the [documentation page](http://networkx.readthedocs.io/en/networkx-1.11/search.html?q=centrality&check_keywords=yes&area=default). The functions take a graph as an argument and return a dictionary with nodes as keys and the centrality as values. This is convenient for us because we can set these as attributes for the nodes in the graph using the [`set_node_attributes`](https://networkx.github.io/documentation/networkx-1.9/reference/generated/networkx.classes.function.set_node_attributes.html) function. For example:"
   ]
  },
  {
   "cell_type": "code",
   "execution_count": 35,
   "metadata": {},
   "outputs": [
    {
     "name": "stdout",
     "output_type": "stream",
     "text": [
      "0.03788067046162604\n"
     ]
    }
   ],
   "source": [
    "import networkx as nx\n",
    "\n",
    "my_graph = nx.erdos_renyi_graph(500, 0.3)\n",
    "\n",
    "# Get the eigenvector centralities for all the nodes\n",
    "centralities = nx.eigenvector_centrality(my_graph)\n",
    "\n",
    "# Set the attributes of the nodes to include the centralities\n",
    "# The arguments are: <graph> <attribute key> <values>\n",
    "# Where <values> is a dictionary with keys=nodes\n",
    "nx.set_node_attributes(my_graph, \"eigenvector\", centralities)\n",
    "\n",
    "# Now we can refer to the node's attributes in the graph\n",
    "print(my_graph.node[3][\"eigenvector\"])"
   ]
  },
  {
   "cell_type": "markdown",
   "metadata": {},
   "source": [
    "We want to do this so that we can export our graph as a `gexf` file using networkx's [`write_gexf`](http://networkx.readthedocs.io/en/networkx-1.11/reference/generated/networkx.readwrite.gexf.write_gexf.html) function. Gexf is able to contain a lot more information than other graph datatypes like pajek. It can contain information about the node attributes or edge attributes that belong to the graph and then these attributes will be recognized by Gephi for plotting.\n",
    "\n",
    "Once the graph is saved and you open it in Gephi, you can use the node (or edge) attributes to control node (or edge) size and color. This can be done by clicking the refresh button by the drop-down menu for node/edge sizing and coloring (refer back to the Gephi tutorial if you are unfamiliar with this). Your attributes will be loaded in using whatever name you used as an `<attribute key>`\n",
    "\n",
    "Choose a visually appealing layout and then arrange your nodes accordingly and then save separate visualizations that only change the node color/size according to your saved attributes. You will be using this ability for the following questions.\n",
    "\n",
    "**What to submit**: Turn in a PDF that contains your short responses and the visualizations for each of the following questions. **Keep the node location the same** for your graph visualizations.\n",
    "\n",
    "## Picking the right Dolphins\n",
    "Answer the following questions:\n",
    "\n",
    "#### (1) Popularity contest\n",
    "We want to know who the top dolphins are in the network, the real centers of attraction. Using what you learned about centrality from the readings and videos, choose an appropriate centrality measure that will tell us who those dolphins are. Justify your decision and list who the important dolphins are.\n",
    "\n",
    "#### (2) Relay\n",
    "Dolphins like passing information around efficiently along the shortest-paths. Among their neighbors who are the most important message relayers in the network? Justify your centrality choice for finding these dolphins.\n",
    "\n",
    "#### (3) Gossip \n",
    "There is a lot smack going around the pod and everyone wants to know if Flipper will be inviting them to the party next week. But gossip takes time to travel. Which dolphins are in the best position for getting all the best gossip from around the pod? Justify your centrality choice for finding these dolphins."
   ]
  },
  {
   "cell_type": "code",
   "execution_count": 40,
   "metadata": {},
   "outputs": [
    {
     "name": "stdout",
     "output_type": "stream",
     "text": [
      "Top five dolphins with largest eigenvector centrality ['Grin', 'SN4', 'Topless', 'Scabs', 'TR99']\n"
     ]
    }
   ],
   "source": [
    "#Popularity contest using eigenvector centrality\n",
    "centralities = nx.eigenvector_centrality(G)\n",
    "nx.set_node_attributes(G, \"eigenvector\", centralities)\n",
    "print (\"Top five dolphins with largest eigenvector centrality\",\n",
    "       sorted(centralities, key=centralities.get,reverse=True)[:5])"
   ]
  },
  {
   "cell_type": "code",
   "execution_count": 37,
   "metadata": {},
   "outputs": [
    {
     "name": "stdout",
     "output_type": "stream",
     "text": [
      "Top five dolphins with largest betweenness centrality ['SN100', 'Beescratch', 'SN9', 'SN4', 'DN63']\n"
     ]
    }
   ],
   "source": [
    "#Popularity contest using betweenness centrality\n",
    "centralities = nx.betweenness_centrality(G)\n",
    "nx.set_node_attributes(G, \"betweenness\", centralities)\n",
    "print (\"Top five dolphins with largest betweenness centrality\",\n",
    "       sorted(centralities, key=centralities.get,reverse=True)[:5])"
   ]
  },
  {
   "cell_type": "code",
   "execution_count": 41,
   "metadata": {},
   "outputs": [
    {
     "name": "stdout",
     "output_type": "stream",
     "text": [
      "Top five dolphins with largest closeness centrality ['SN100', 'SN9', 'SN4', 'Kringel', 'Grin']\n"
     ]
    }
   ],
   "source": [
    "#Popularity contest using closeness centrality\n",
    "centralities = nx.closeness_centrality(G)\n",
    "nx.set_node_attributes(G, \"closeness\", centralities)\n",
    "print (\"Top five dolphins with largest closeness centrality\",\n",
    "       sorted(centralities, key=centralities.get,reverse=True)[:5])"
   ]
  },
  {
   "cell_type": "code",
   "execution_count": 39,
   "metadata": {
    "collapsed": true
   },
   "outputs": [],
   "source": [
    "#export to gexf\n",
    "nx.write_gexf(G, \"dolphins.gexf\")"
   ]
  }
 ],
 "metadata": {
  "kernelspec": {
   "display_name": "Python 3",
   "language": "python",
   "name": "python3"
  },
  "language_info": {
   "codemirror_mode": {
    "name": "ipython",
    "version": 3
   },
   "file_extension": ".py",
   "mimetype": "text/x-python",
   "name": "python",
   "nbconvert_exporter": "python",
   "pygments_lexer": "ipython3",
   "version": "3.6.0"
  }
 },
 "nbformat": 4,
 "nbformat_minor": 1
}
