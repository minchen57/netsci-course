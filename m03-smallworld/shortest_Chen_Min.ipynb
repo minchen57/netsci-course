{
 "cells": [
  {
   "cell_type": "markdown",
   "metadata": {},
   "source": [
    "# Assignment\n",
    "\n",
    "For this assignment you will calculate and plot the distribution of the path lengths of a graph. First we will generate a random graph which we will use for the assignment:"
   ]
  },
  {
   "cell_type": "code",
   "execution_count": 7,
   "metadata": {
    "scrolled": true
   },
   "outputs": [
    {
     "name": "stdout",
     "output_type": "stream",
     "text": [
      "Name: gnp_random_graph(1200,0.008)\n",
      "Type: Graph\n",
      "Number of nodes: 1200\n",
      "Number of edges: 5816\n",
      "Average degree:   9.6933\n"
     ]
    }
   ],
   "source": [
    "import networkx as nx\n",
    "random_graph = nx.erdos_renyi_graph(1200, 0.008)\n",
    "print(nx.info(random_graph))"
   ]
  },
  {
   "cell_type": "markdown",
   "metadata": {},
   "source": [
    "## 1. Finding path lengths\n",
    "\n",
    "Networkx provides a shortest [path length function](https://networkx.github.io/documentation/networkx-1.10/reference/generated/networkx.algorithms.shortest_paths.generic.shortest_path.html) which you can use to get the shortest path between nodes in a graph. Try out some of the examples in the documentation using the random graph we made above until you get familiar with how it works and what type of output it gives.\n",
    "\n",
    "Next write a function that will return a list of the shortest path **lengths** between all pairs of nodes (make sure each pair is only counted once). This function should take a single argument, `G`, a networkx graph."
   ]
  },
  {
   "cell_type": "code",
   "execution_count": 8,
   "metadata": {
    "collapsed": true
   },
   "outputs": [],
   "source": [
    "def all_shortest_path_lengths(G):\n",
    "    p=nx.shortest_path(G)\n",
    "    return [len(p[i][j]) -1 for i in G.nodes() for j in G.nodes() if i < j]"
   ]
  },
  {
   "cell_type": "markdown",
   "metadata": {},
   "source": [
    "Apply your function to the ```random_graph``` and assign the list of shortest path lengths to a variable:"
   ]
  },
  {
   "cell_type": "code",
   "execution_count": 33,
   "metadata": {
    "scrolled": true
   },
   "outputs": [
    {
     "name": "stdout",
     "output_type": "stream",
     "text": [
      "719400\n",
      "[6, 6, 6, 6, 6, 6, 6, 6, 6, 6, 6, 6, 6, 6, 6, 6, 6, 6, 6, 6, 6, 6, 6, 6, 6, 6, 6, 6, 6, 6, 6, 6]\n",
      "32\n"
     ]
    }
   ],
   "source": [
    "L=all_shortest_path_lengths(random_graph)\n",
    "print (len(L))\n",
    "print ([x for x in L if x > 5])\n",
    "print (len([x for x in L if x > 5]))"
   ]
  },
  {
   "cell_type": "markdown",
   "metadata": {},
   "source": [
    "This shows that the largest shotest path between any two node pairs in this graph is 6, and there are 32 out of 719400 of such pairs."
   ]
  },
  {
   "cell_type": "markdown",
   "metadata": {},
   "source": [
    "## 2. Visualizing the results\n",
    "Now that you have a list of the shortest paths for the graph, make a histogram for it. This can be done with [matplotlibs histogram function](http://matplotlib.org/api/pyplot_api.html?highlight=hist#matplotlib.pyplot.hist)"
   ]
  },
  {
   "cell_type": "code",
   "execution_count": 14,
   "metadata": {
    "collapsed": true
   },
   "outputs": [],
   "source": [
    "%matplotlib inline\n",
    "import matplotlib.pyplot as plt"
   ]
  },
  {
   "cell_type": "markdown",
   "metadata": {},
   "source": [
    "This function is fairly useful and lets us quickly visualize a distribution. For instance, if we create a small set of normally distributed random numbers we could use the histogram function to plot the bell curve:"
   ]
  },
  {
   "cell_type": "code",
   "execution_count": 15,
   "metadata": {},
   "outputs": [
    {
     "data": {
      "image/png": "[encoded data removed]",
      "text/plain": [
       "<matplotlib.figure.Figure at 0x10b7d7cf8>"
      ]
     },
     "metadata": {},
     "output_type": "display_data"
    }
   ],
   "source": [
    "import numpy as np\n",
    "# Create dummy data\n",
    "rvs = np.random.normal(size=1000)\n",
    "# plot histogram\n",
    "pdf, bins, patch = plt.hist(rvs, bins=30)"
   ]
  },
  {
   "cell_type": "markdown",
   "metadata": {},
   "source": [
    "You may need to adjust the number of bins so that it is appropriate for the amount of data points you have.\n",
    "\n",
    "Use the histogram function to make a plot of the results from your shortest paths length function:"
   ]
  },
  {
   "cell_type": "markdown",
   "metadata": {},
   "source": [
    "## Below is the histgram for the shortest paths length distribution of the graph above"
   ]
  },
  {
   "cell_type": "code",
   "execution_count": 29,
   "metadata": {
    "scrolled": true
   },
   "outputs": [
    {
     "data": {
      "image/png": "[encoded data removed]",
      "text/plain": [
       "<matplotlib.figure.Figure at 0x10ecfb8d0>"
      ]
     },
     "metadata": {},
     "output_type": "display_data"
    }
   ],
   "source": [
    "pdf, bins, patch = plt.hist(L, bins=6)"
   ]
  }
 ],
 "metadata": {
  "anaconda-cloud": {},
  "kernelspec": {
   "display_name": "Python 3",
   "language": "python",
   "name": "python3"
  },
  "language_info": {
   "codemirror_mode": {
    "name": "ipython",
    "version": 3
   },
   "file_extension": ".py",
   "mimetype": "text/x-python",
   "name": "python",
   "nbconvert_exporter": "python",
   "pygments_lexer": "ipython3",
   "version": "3.6.0"
  }
 },
 "nbformat": 4,
 "nbformat_minor": 1
}
