{
 "cells": [
  {
   "cell_type": "markdown",
   "metadata": {},
   "source": [
    "# Assignment: Scale-free networks\n",
    "\n",
    "## 1. Implement BA algorithm\n",
    "For this assignment you will be implementing the BA algorithm from the reading (see [Barabasi Ch 5.3](http://barabasi.com/networksciencebook/)). Create a function that takes `n` the number of nodes for the graph, and `m_o` the initial number of nodes, as arguments and returns a networkx graph with a scale-free degree distribution.\n",
    "\n",
    "(Hint1: `numpy`'s [`np.random.choice`](http://docs.scipy.org/doc/numpy/reference/generated/numpy.random.choice.html) has optional arguments for weighted random selection)\n",
    "\n",
    "(Hint2: there is another very simple method to sample nodes based on their degree. In doing so, you'll create a long list.)"
   ]
  },
  {
   "cell_type": "code",
   "execution_count": 126,
   "metadata": {},
   "outputs": [],
   "source": [
    "import numpy as np\n",
    "import networkx as nx\n",
    "import matplotlib.pyplot as plt"
   ]
  },
  {
   "cell_type": "code",
   "execution_count": 127,
   "metadata": {
    "collapsed": true
   },
   "outputs": [],
   "source": [
    "def BA_scale_free(n, m_o, m=2):\n",
    "    #create a random graph with size n\n",
    "    prob = np.random.random_sample()\n",
    "    graph = nx.erdos_renyi_graph(n=m_o, p=prob)\n",
    "    \n",
    "    #if any node has degree 0, randomly connect it with another node or itself\n",
    "    for node in graph.nodes():\n",
    "        if (graph.degree(node) == 0):\n",
    "            graph.add_edge(node, np.random.randint(0,m_o - 1))\n",
    "    #get the degree list        \n",
    "    degree = [graph.degree(i) for i in graph.nodes()]\n",
    "    \n",
    "    for i in range(m_o, n):\n",
    "        size = graph.number_of_nodes()\n",
    "        choice = np.random.choice(size, m, p= degree / np.sum(degree))\n",
    "        graph.add_node(size)\n",
    "        for j in choice:\n",
    "            graph.add_edge(size, j)\n",
    "        degree = [graph.degree(i) for i in graph.nodes()]\n",
    "    return graph"
   ]
  },
  {
   "cell_type": "code",
   "execution_count": 128,
   "metadata": {},
   "outputs": [
    {
     "name": "stdout",
     "output_type": "stream",
     "text": [
      "Name: gnp_random_graph(5,0.38652407449093096)\n",
      "Type: Graph\n",
      "Number of nodes: 50\n",
      "Number of edges: 90\n",
      "Average degree:   3.6000\n"
     ]
    }
   ],
   "source": [
    "test= BA_scale_free(50,5,m=2)\n",
    "print(nx.info(test))"
   ]
  },
  {
   "cell_type": "markdown",
   "metadata": {},
   "source": [
    "## 2. BA graph analysis\n",
    "Test your algorithm by creating a graph with `N = 1200` and `m_o = 7`. Calculate (and print) the average shortest path length of the graph:"
   ]
  },
  {
   "cell_type": "code",
   "execution_count": 129,
   "metadata": {
    "collapsed": true
   },
   "outputs": [],
   "source": [
    "def all_shortest_path_lengths(G):\n",
    "    p=nx.shortest_path(G)\n",
    "    return [len(p[i][j]) -1 for i in G.nodes() for j in G.nodes() if i < j if i in p if j in p[i]]"
   ]
  },
  {
   "cell_type": "code",
   "execution_count": 130,
   "metadata": {},
   "outputs": [
    {
     "name": "stdout",
     "output_type": "stream",
     "text": [
      "the average shortest path length of the graph is  4.13081873784\n"
     ]
    }
   ],
   "source": [
    "N = 1200\n",
    "m_o = 7\n",
    "test_graph = BA_scale_free(N,m_o)\n",
    "print(\"the average shortest path length of the graph is \", np.mean(all_shortest_path_lengths(test_graph)))"
   ]
  },
  {
   "cell_type": "markdown",
   "metadata": {},
   "source": [
    "Calculate (and print) the average clustering coefficient of the graph:"
   ]
  },
  {
   "cell_type": "code",
   "execution_count": 131,
   "metadata": {},
   "outputs": [
    {
     "name": "stdout",
     "output_type": "stream",
     "text": [
      "the average clustering coefficient of the graph is  0.0221159635709\n"
     ]
    }
   ],
   "source": [
    "cc = [nx.clustering(test_graph,i) for i in test_graph.nodes()]\n",
    "print(\"the average clustering coefficient of the graph is \", np.mean(cc))"
   ]
  },
  {
   "cell_type": "markdown",
   "metadata": {},
   "source": [
    "Now plot a histogram of the degree distribution of the graph (remember to include `%matplotlib inline` for plotting in Jupyter):"
   ]
  },
  {
   "cell_type": "code",
   "execution_count": 132,
   "metadata": {},
   "outputs": [
    {
     "data": {
      "image/png": "[encoded data removed]",
      "text/plain": [
       "<matplotlib.figure.Figure at 0x11ede5e48>"
      ]
     },
     "metadata": {},
     "output_type": "display_data"
    }
   ],
   "source": [
    "%matplotlib inline\n",
    "degree = [test_graph.degree(i) for i in test_graph.nodes()]\n",
    "pdf, bins, patch = plt.hist(degree, bins=100)"
   ]
  },
  {
   "cell_type": "markdown",
   "metadata": {},
   "source": [
    "## 3. BA and ER comparison\n",
    "Now lets compare the scale-free and random graphs. Create a random graph with the same number of nodes and about the same number of edges, then calculate the average shortest path length of that graph:"
   ]
  },
  {
   "cell_type": "code",
   "execution_count": 133,
   "metadata": {},
   "outputs": [
    {
     "name": "stdout",
     "output_type": "stream",
     "text": [
      "Name: gnp_random_graph(1200,0.0033291631915485127)\n",
      "Type: Graph\n",
      "Number of nodes: 1200\n",
      "Number of edges: 2344\n",
      "Average degree:   3.9067\n"
     ]
    }
   ],
   "source": [
    "# Create a random graph with the same number of nodes and about the same number of edges\n",
    "edgeNumber = test_graph.size()\n",
    "p = 2 * edgeNumber / (N * (N-1))\n",
    "random_graph = nx.erdos_renyi_graph(N, p=p)\n",
    "print(nx.info(random_graph))"
   ]
  },
  {
   "cell_type": "code",
   "execution_count": 134,
   "metadata": {},
   "outputs": [
    {
     "name": "stdout",
     "output_type": "stream",
     "text": [
      "the average shortest path length of the graph is  5.32117029956\n"
     ]
    }
   ],
   "source": [
    "print(\"the average shortest path length of the graph is \", np.mean(all_shortest_path_lengths(random_graph)))"
   ]
  },
  {
   "cell_type": "markdown",
   "metadata": {},
   "source": [
    "Calculate (and print) the average clustering coefficient of the graph:"
   ]
  },
  {
   "cell_type": "code",
   "execution_count": 135,
   "metadata": {},
   "outputs": [
    {
     "name": "stdout",
     "output_type": "stream",
     "text": [
      "the average clustering coefficient of the graph is  0.0062380952381\n"
     ]
    }
   ],
   "source": [
    "cc = [nx.clustering(random_graph,i) for i in random_graph.nodes()]\n",
    "print(\"the average clustering coefficient of the graph is \", np.mean(cc))"
   ]
  },
  {
   "cell_type": "markdown",
   "metadata": {},
   "source": [
    "Now plot a histogram of the degree distribution of the random graph:"
   ]
  },
  {
   "cell_type": "code",
   "execution_count": 140,
   "metadata": {},
   "outputs": [
    {
     "data": {
      "image/png": "[encoded data removed]",
      "text/plain": [
       "<matplotlib.figure.Figure at 0x120f6a780>"
      ]
     },
     "metadata": {},
     "output_type": "display_data"
    }
   ],
   "source": [
    "degree = [random_graph.degree(i) for i in random_graph.nodes()]\n",
    "pdf, bins, patch = plt.hist(degree, bins=100)"
   ]
  },
  {
   "cell_type": "markdown",
   "metadata": {},
   "source": [
    "How do the average shortest path lengths, average clustering coefficients, and degree distributions between the graphs compare?"
   ]
  },
  {
   "cell_type": "markdown",
   "metadata": {},
   "source": [
    "## Comparison"
   ]
  },
  {
   "cell_type": "markdown",
   "metadata": {},
   "source": [
    "Compare to the random graph with same number of nodes and edges, the scale-free graph has shorter average shortest path length, much higher clustering coefficients. For the degree distribution, the random graph has a bell shape which we know follows the possion distribution however, the scale free graph has a downward sloping density curve, which we know follows a power-law distribution."
   ]
  },
  {
   "cell_type": "markdown",
   "metadata": {},
   "source": [
    "## 4. Preferential attachment without using the degree\n",
    "\n",
    "As explained in a video, it is possible to achieve the linear preferential attachment without calculating the degree by using the principle that we learned in the friendship paradox. Implement this version and see whether you can get a power-law degree distribution.  \n",
    "\n",
    "Helpful page:\n",
    "- https://networkx.github.io/documentation/networkx-1.10/reference/generated/networkx.Graph.edges.html \n"
   ]
  },
  {
   "cell_type": "code",
   "execution_count": 141,
   "metadata": {
    "collapsed": true
   },
   "outputs": [],
   "source": [
    "def BA_scale_free_fp(n, m_o, m=2):\n",
    "    #create a random graph with size n\n",
    "    prob = np.random.random_sample()\n",
    "    graph = nx.erdos_renyi_graph(n=m_o, p=prob)\n",
    "    \n",
    "    #if any node has degree 0, randomly connect it with another node or itself\n",
    "    for node in graph.nodes():\n",
    "        if (graph.degree(node) == 0):\n",
    "            graph.add_edge(node, np.random.randint(0,m_o - 1))\n",
    "    #get the degree list        \n",
    "    degree = [graph.degree(i) for i in graph.nodes()]\n",
    "    \n",
    "    for i in range(m_o, n):\n",
    "        size = graph.number_of_nodes()\n",
    "        chosen_edges = np.random.random_sample(graph.edges(),m)\n",
    "        graph.add_node(size)\n",
    "        for j in chosen_edges:\n",
    "            graph.add_edge(size, j[0])\n",
    "    return graph"
   ]
  },
  {
   "cell_type": "code",
   "execution_count": 143,
   "metadata": {},
   "outputs": [
    {
     "name": "stdout",
     "output_type": "stream",
     "text": [
      "the average shortest path length of the graph is  4.16488323603\n"
     ]
    }
   ],
   "source": [
    "test_graph_2 = BA_scale_free(N,m_o)\n",
    "print(\"the average shortest path length of the graph is \", np.mean(all_shortest_path_lengths(test_graph_2)))"
   ]
  },
  {
   "cell_type": "code",
   "execution_count": 145,
   "metadata": {},
   "outputs": [
    {
     "name": "stdout",
     "output_type": "stream",
     "text": [
      "the average clustering coefficient of the graph is  0.0183963203175\n"
     ]
    }
   ],
   "source": [
    "cc = [nx.clustering(test_graph_2,i) for i in test_graph_2.nodes()]\n",
    "print(\"the average clustering coefficient of the graph is \", np.mean(cc))"
   ]
  },
  {
   "cell_type": "code",
   "execution_count": 146,
   "metadata": {},
   "outputs": [
    {
     "data": {
      "image/png": "[encoded data removed]",
      "text/plain": [
       "<matplotlib.figure.Figure at 0x12a0c72e8>"
      ]
     },
     "metadata": {},
     "output_type": "display_data"
    }
   ],
   "source": [
    "degree = [test_graph_2.degree(i) for i in test_graph_2.nodes()]\n",
    "pdf, bins, patch = plt.hist(degree, bins=100)"
   ]
  },
  {
   "cell_type": "markdown",
   "metadata": {},
   "source": [
    "## 5. Visualizing a scale-free graph\n",
    "Write your graph to file and then load it into Gephi and make it presentable. Save your graph visualization as a PDF and upload it with this Jupyter notebook to Canvas."
   ]
  },
  {
   "cell_type": "code",
   "execution_count": 148,
   "metadata": {
    "collapsed": true
   },
   "outputs": [],
   "source": [
    "nx.write_gml(test_graph,\"scale_free.gml\")"
   ]
  }
 ],
 "metadata": {
  "kernelspec": {
   "display_name": "Python 3",
   "language": "python",
   "name": "python3"
  },
  "language_info": {
   "codemirror_mode": {
    "name": "ipython",
    "version": 3
   },
   "file_extension": ".py",
   "mimetype": "text/x-python",
   "name": "python",
   "nbconvert_exporter": "python",
   "pygments_lexer": "ipython3",
   "version": "3.6.0"
  }
 },
 "nbformat": 4,
 "nbformat_minor": 1
}
