{
 "cells": [
  {
   "cell_type": "markdown",
   "metadata": {},
   "source": [
    "# Paxis: Introducing Python and Jupyter notebook\n",
    "\n",
    "\n",
    " 1. If you have not already, download and install Anaconda on your laptop. Here is the link for downloading: http://continuum.io/downloads.\n",
    "  \n",
    " 1. Run **jupyter notebook** from terminal. What do you see? Can you create a new notebook?\n",
    "\n",
    " 1. Run the \"Hello world!\" code below in your created notebook\n",
    "\n",
    "    ```\n",
    "    print('Hello world!')\n",
    "    ```\n",
    "\n",
    " 1. Read the following tutorials and run any code that you do not understand\n",
    "  \n",
    "  * https://docs.python.org/3.5/tutorial/introduction.html (skip section 3.1.3.)\n",
    "  * https://docs.python.org/3.5/tutorial/controlflow.html\n",
    "  \n",
    " 1. Try importing networkx. It should already be installed with Anaconda, if it isn't then you will get an error message, after which you can install from the commandline with: conda install networkx. \n",
    " If running the import command produces no output then you should be good to continue. \n",
    " \n",
    "    ```\n",
    "    import networkx as nx\n",
    "    ```\n",
    "  \n",
    " 1. Rename your notebook as this 'pysetup_lastname_firstname' and submit to Canvas in the Python Setup assignment section."
   ]
  },
  {
   "cell_type": "code",
   "execution_count": 1,
   "metadata": {
    "collapsed": false
   },
   "outputs": [
    {
     "name": "stdout",
     "output_type": "stream",
     "text": [
      "Hellow world!\n"
     ]
    }
   ],
   "source": [
    "print (\"Hellow world!\")"
   ]
  },
  {
   "cell_type": "code",
   "execution_count": 4,
   "metadata": {
    "collapsed": true
   },
   "outputs": [],
   "source": [
    "import networkx as nx"
   ]
  },
  {
   "cell_type": "code",
   "execution_count": 7,
   "metadata": {
    "collapsed": false
   },
   "outputs": [
    {
     "data": {
      "text/plain": [
       "[1, 2, 3, 'spam', 's', 'p', 'a', 'm']"
      ]
     },
     "execution_count": 7,
     "metadata": {},
     "output_type": "execute_result"
    }
   ],
   "source": [
    "G=nx.Graph()\n",
    "G.add_edges_from([(1,2),(1,3)])\n",
    "G.add_node(1)\n",
    "G.add_edge(1,2)\n",
    "G.add_node(\"spam\")     \n",
    "G.add_nodes_from(\"spam\")\n",
    "G.nodes()"
   ]
  }
 ],
 "metadata": {
  "anaconda-cloud": {},
  "kernelspec": {
   "display_name": "Python 3",
   "language": "python",
   "name": "python3"
  },
  "language_info": {
   "codemirror_mode": {
    "name": "ipython",
    "version": 3
   },
   "file_extension": ".py",
   "mimetype": "text/x-python",
   "name": "python",
   "nbconvert_exporter": "python",
   "pygments_lexer": "ipython3",
   "version": "3.6.0"
  }
 },
 "nbformat": 4,
 "nbformat_minor": 0
}
