{
 "cells": [
  {
   "cell_type": "markdown",
   "metadata": {},
   "source": [
    "# This notebook is used to generate the random graph with the same number of nodes and same average degree and number of edges as Les Miserables graph"
   ]
  },
  {
   "cell_type": "markdown",
   "metadata": {},
   "source": [
    "Some statistics about the Les Miserables graph:\n",
    "\n",
    "Number of nodes: 77\n",
    "\n",
    "Number of edges: 254\n",
    "\n",
    "Average degree: 6.597\n",
    "\n",
    "Average clusting coefficient: 0.736\n",
    "\n",
    "Average path length: 2.641"
   ]
  },
  {
   "cell_type": "markdown",
   "metadata": {},
   "source": [
    "Now we generate a similar random graph below:"
   ]
  },
  {
   "cell_type": "markdown",
   "metadata": {},
   "source": [
    "Here we need to calculate the probability to use in the generator. According to the formular:"
   ]
  },
  {
   "cell_type": "code",
   "execution_count": 19,
   "metadata": {},
   "outputs": [
    {
     "data": {
      "text/latex": [
       "$<L>=p\\frac{N(N-1)}{2}$"
      ],
      "text/plain": [
       "<IPython.core.display.Latex object>"
      ]
     },
     "metadata": {},
     "output_type": "display_data"
    }
   ],
   "source": [
    "%%latex\n",
    "$<L>=p\\frac{N(N-1)}{2}$"
   ]
  },
  {
   "cell_type": "code",
   "execution_count": 20,
   "metadata": {},
   "outputs": [
    {
     "data": {
      "text/latex": [
       "We have $254=p\\times 77\\times 76\\times 0.5$ and therefore $p=0.0868079$"
      ],
      "text/plain": [
       "<IPython.core.display.Latex object>"
      ]
     },
     "metadata": {},
     "output_type": "display_data"
    }
   ],
   "source": [
    "%%latex\n",
    "We have $254=p\\times 77\\times 76\\times 0.5$ and therefore $p=0.0868079$"
   ]
  },
  {
   "cell_type": "code",
   "execution_count": 21,
   "metadata": {},
   "outputs": [
    {
     "data": {
      "text/latex": [
       "The average degree we get is $p(N-1)=6.5974$."
      ],
      "text/plain": [
       "<IPython.core.display.Latex object>"
      ]
     },
     "metadata": {},
     "output_type": "display_data"
    }
   ],
   "source": [
    "%%latex\n",
    "The average degree we get is $p(N-1)=6.5974$."
   ]
  },
  {
   "cell_type": "code",
   "execution_count": 22,
   "metadata": {},
   "outputs": [
    {
     "name": "stdout",
     "output_type": "stream",
     "text": [
      "Name: gnp_random_graph(77,0.0868079)\n",
      "Type: Graph\n",
      "Number of nodes: 77\n",
      "Number of edges: 255\n",
      "Average degree:   6.6234\n"
     ]
    }
   ],
   "source": [
    "import networkx as nx\n",
    "random_graph = nx.erdos_renyi_graph(77, 0.0868079)\n",
    "print(nx.info(random_graph))"
   ]
  },
  {
   "cell_type": "code",
   "execution_count": 26,
   "metadata": {},
   "outputs": [],
   "source": [
    "nx.write_gml(random_graph,\"random.gml\")"
   ]
  }
 ],
 "metadata": {
  "kernelspec": {
   "display_name": "Python 3",
   "language": "python",
   "name": "python3"
  },
  "language_info": {
   "codemirror_mode": {
    "name": "ipython",
    "version": 3
   },
   "file_extension": ".py",
   "mimetype": "text/x-python",
   "name": "python",
   "nbconvert_exporter": "python",
   "pygments_lexer": "ipython3",
   "version": "3.6.0"
  }
 },
 "nbformat": 4,
 "nbformat_minor": 2
}
