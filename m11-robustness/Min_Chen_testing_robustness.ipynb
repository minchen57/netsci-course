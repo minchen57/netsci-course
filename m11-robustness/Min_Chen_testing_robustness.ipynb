{
 "cells": [
  {
   "cell_type": "markdown",
   "metadata": {},
   "source": [
    "# Random attacks and network robustness\n",
    "For this assignment we will be taking a look at how robust networks are to failure, similar to what you saw in the Barabasi readings. From the reading we learned that random node removal can fragment the network very quickly in lattices. The point where the largest component vanishes is the critical point and it occurs sharply in those types of graphs. We can actually write a short program to do this ourselves and produce a similar bifurcation diagram as in the reading."
   ]
  },
  {
   "cell_type": "code",
   "execution_count": 1,
   "metadata": {
    "collapsed": true
   },
   "outputs": [],
   "source": [
    "# First lets load the libraries we need\n",
    "import networkx as nx\n",
    "import numpy as np\n",
    "%matplotlib inline\n",
    "import matplotlib.pyplot as plt"
   ]
  },
  {
   "cell_type": "code",
   "execution_count": 10,
   "metadata": {
    "collapsed": true
   },
   "outputs": [],
   "source": [
    "# Now lets define a function that will return our order parameter, which will\n",
    "# be the relative size of the giant component to its original size.\n",
    "# This function will take a networkx graph as an argument\n",
    "# as well as the fraction of nodes we want to remove\n",
    "def random_removal(graph, remove_frac):\n",
    "    \n",
    "    # First, lets copy the graph so we don't change the original\n",
    "    graph = graph.copy()\n",
    "    \n",
    "    # We need to calculate the current size of the largest component\n",
    "    initial_largest = len(max(nx.connected_component_subgraphs(graph), key=len))\n",
    "    \n",
    "    # Once that is done, we can randomly remove a fraction of the nodes from the network\n",
    "    # We do this by using numpy's random choice function and having it pick random\n",
    "    # nodes without replacement from the network. We want to remove the number\n",
    "    # corresponding to the fraction that we want to remove.\n",
    "    # Networkx's remove_nodes_from graph method will let us\n",
    "    # remove all the nodes in the resulting list\n",
    "    graph.remove_nodes_from(np.random.choice(graph.nodes(), size=int(remove_frac*len(graph)), replace=False))\n",
    "    \n",
    "    # Now lets calculate our order parameter, while handling\n",
    "    # the case that the graph is empty\n",
    "    if len(graph) > 0:\n",
    "        relative_size_of_largest = len(max(nx.connected_component_subgraphs(graph), key=len)) / initial_largest\n",
    "    else:\n",
    "        relative_size_of_largest = 0.0\n",
    "        \n",
    "    return relative_size_of_largest"
   ]
  },
  {
   "cell_type": "markdown",
   "metadata": {},
   "source": [
    "This function will let us randomly remove nodes from a graph without changing the original graph and it will return the relative size of the largest component after the removal. If we do this many times across a range of fractions we can construct the bifurcation diagram and determine the location of the critical point where the giant component vanishes."
   ]
  },
  {
   "cell_type": "code",
   "execution_count": 3,
   "metadata": {
    "collapsed": true
   },
   "outputs": [],
   "source": [
    "# First, lets make a lattice\n",
    "# Networkx names its lattice nodes according to location in the grid\n",
    "# this doesn't play nice with numpy's choice function so we will\n",
    "# relabel the nodes\n",
    "small_lattice = nx.convert_node_labels_to_integers(nx.grid_2d_graph(20, 20))\n",
    "\n",
    "# I am also going to make a larger lattice for reasons that will become\n",
    "# apparent in a minute\n",
    "large_lattice = nx.convert_node_labels_to_integers(nx.grid_2d_graph(100, 100))"
   ]
  },
  {
   "cell_type": "code",
   "execution_count": 10,
   "metadata": {
    "collapsed": true
   },
   "outputs": [],
   "source": [
    "# This will be our list of fractions to run the simulation over\n",
    "fractions = np.linspace(0.0, 1.0, 30)\n",
    "\n",
    "# Lets do 20 trials for each fraction and take the mean, then do that for each fraction\n",
    "small_lat_orderpars = [ np.mean([random_removal(small_lattice, frac) for i in range(20)]) for frac in fractions ]\n",
    "large_lat_orderpars = [ np.mean([random_removal(large_lattice, frac) for i in range(20)]) for frac in fractions ]"
   ]
  },
  {
   "cell_type": "code",
   "execution_count": 11,
   "metadata": {},
   "outputs": [
    {
     "data": {
      "text/plain": [
       "[<matplotlib.lines.Line2D at 0x7efdb3c1d780>]"
      ]
     },
     "execution_count": 11,
     "metadata": {},
     "output_type": "execute_result"
    },
    {
     "data": {
      "image/png": "[encoded data removed]",
      "text/plain": [
       "<matplotlib.figure.Figure at 0x7efdb3c35b38>"
      ]
     },
     "metadata": {},
     "output_type": "display_data"
    }
   ],
   "source": [
    "# Now lets plot the results\n",
    "plt.plot(fractions, small_lat_orderpars, color='black', lw=2)\n",
    "plt.plot(fractions, large_lat_orderpars, color='red', lw=2)"
   ]
  },
  {
   "cell_type": "markdown",
   "metadata": {},
   "source": [
    "Here the larger graph, marked as the red line, has a far more distinct critical point. This is the effect of finite-size scaling. Most critical exponents and critical points are calculated as if the graph were of infinite size, but in practice graphs are much smaller and the result is a washing out of the critical point where it becomes less clear. There are more sophisticated approaches to correctly estimating the critical points and its critical exponents using a series of differently sized finite graphs, but unfortunately, most real world graphs don't have multiple instances to determine where the \"actual\" critical point is. So for our purposes it will be sufficient to let the critical point occur when the size of the giant component drops below 1% of its original value (which is what Barabasi does in the text book for table 8.1).\n",
    "\n",
    "\n",
    "# Targeted attacks and network robustness\n",
    "Here is what I want you to do for this assignment:\n",
    "\n",
    "1. Write a function for targeted attacks that remove nodes in order of largest to smallest degree. It should take the same two arguments (networkx graph and removal fraction) as my `random_removal` function.\n",
    "\n",
    "2. Choose any real-world network and create a bifurcation diagram similar to Figure 8.11 in the reading, which shows both the result of a targeted attack and a random attack on your network. Make sure to use a graph with many more than 100 nodes. Node removal is a discrete process, so 1% of anything less than a hundred is 0, meaning the whole network has to disappear and you won't see the critical point.\n",
    "\n",
    "3. Determine the critical point for both attacks. This will be the point around which the giant component drops below 1% of its initial size.\n",
    "\n",
    "4. Generate a random graph with the same size (N) and roughly the same number of edges (L) as your real-world graph and repeat steps 2-3 on that. (Note: you don't want to use the configuration model for this because percolation is strongly related to degree sequence, you can just use an erdos_renyi_graph)\n",
    "\n",
    "5. Compare the robustness of your real-world graph to the random graph for both random and targeted node removal. How do the critical points compare? Are the results what you expected?\n",
    "\n",
    "6. Submit your notebook to canvas when you are complete.\n",
    "\n"
   ]
  },
  {
   "cell_type": "code",
   "execution_count": 13,
   "metadata": {
    "collapsed": true
   },
   "outputs": [],
   "source": [
    "def targeted_attack(graph, remove_frac):\n",
    "    \n",
    "    # First, lets copy the graph so we don't change the original\n",
    "    graph = graph.copy()\n",
    "    \n",
    "    # We need to calculate the current size of the largest component\n",
    "    initial_largest = len(max(nx.connected_component_subgraphs(graph), key=len))\n",
    "    RemovingNumber = int(remove_frac*len(graph))\n",
    "    if RemovingNumber >= len(graph):\n",
    "        return 0.0\n",
    "    else:\n",
    "        degreedict = graph.degree(graph.nodes())\n",
    "        largest = sorted(degreedict, key=degreedict.get,reverse=True)[:RemovingNumber]\n",
    "        graph.remove_nodes_from(largest)\n",
    "    if len(graph) > 0:\n",
    "        relative_size_of_largest = len(max(nx.connected_component_subgraphs(graph), key=len)) / initial_largest\n",
    "    else:\n",
    "        relative_size_of_largest = 0.0\n",
    "        \n",
    "    return relative_size_of_largest"
   ]
  },
  {
   "attachments": {},
   "cell_type": "markdown",
   "metadata": {},
   "source": [
    "The graph I am looking at is the weighted network of coauthorships between scientists posting preprints on the High-Energy Theory E-Print Archive between Jan 1, 1995 and December 31, 1999. M. E. J. Newman, Proc. Natl. Acad. Sci. USA 98, 404-409 (2001).\n",
    "Now load the graph:"
   ]
  },
  {
   "cell_type": "code",
   "execution_count": 19,
   "metadata": {},
   "outputs": [
    {
     "name": "stdout",
     "output_type": "stream",
     "text": [
      "Name: \n",
      "Type: Graph\n",
      "Number of nodes: 8361\n",
      "Number of edges: 15751\n",
      "Average degree:   3.7677\n"
     ]
    }
   ],
   "source": [
    "G = nx.read_pajek('hep-th.net')\n",
    "G = nx.Graph(G)\n",
    "print(nx.info(G))"
   ]
  },
  {
   "cell_type": "code",
   "execution_count": 20,
   "metadata": {},
   "outputs": [],
   "source": [
    "# This will be our list of fractions to run the simulation over\n",
    "fractions = np.linspace(0.0, 1.0, 30)\n",
    "\n",
    "# Lets do 20 trials for each fraction and take the mean, then do that for each fraction\n",
    "random_attack_orderpars = [ np.mean([random_removal(G, frac) for i in range(20)]) for frac in fractions ]\n",
    "targeted_attack_orderpars = [ np.mean([targeted_attack(G, frac) for i in range(20)]) for frac in fractions ]"
   ]
  },
  {
   "cell_type": "code",
   "execution_count": 21,
   "metadata": {},
   "outputs": [
    {
     "data": {
      "text/plain": [
       "[<matplotlib.lines.Line2D at 0x11b702b70>]"
      ]
     },
     "execution_count": 21,
     "metadata": {},
     "output_type": "execute_result"
    },
    {
     "data": {
      "image/png": "[encoded data removed]",
      "text/plain": [
       "<matplotlib.figure.Figure at 0x11b7026d8>"
      ]
     },
     "metadata": {},
     "output_type": "display_data"
    }
   ],
   "source": [
    "# Now lets plot the results\n",
    "plt.plot(fractions, random_attack_orderpars, color='black', lw=2)\n",
    "plt.plot(fractions, targeted_attack_orderpars, color='red', lw=2)"
   ]
  },
  {
   "cell_type": "markdown",
   "metadata": {},
   "source": [
    "Determine the critical point for both attacks. This will be the point around which the giant component drops below 1% of its initial size."
   ]
  },
  {
   "cell_type": "code",
   "execution_count": 26,
   "metadata": {},
   "outputs": [],
   "source": [
    "def find_critical_point(orderpars,fractions):\n",
    "    index = len(orderpars)-1\n",
    "    for i in range(len(orderpars)):\n",
    "        if orderpars[i]<0.01:\n",
    "            index = i\n",
    "            break\n",
    "    critical_point = fractions[index]\n",
    "    return critical_point"
   ]
  },
  {
   "cell_type": "code",
   "execution_count": 32,
   "metadata": {},
   "outputs": [
    {
     "name": "stdout",
     "output_type": "stream",
     "text": [
      "critical point for random attack: 0.862068965517\n",
      "critical point for targeted attack: 0.172413793103\n"
     ]
    }
   ],
   "source": [
    "print('critical point for random attack: '+str(find_critical_point(random_attack_orderpars,fractions)))\n",
    "print('critical point for targeted attack: '+ str(find_critical_point(targeted_attack_orderpars,fractions)))"
   ]
  },
  {
   "cell_type": "markdown",
   "metadata": {},
   "source": [
    "Now we can test the random graph with similar number of nodes and edges"
   ]
  },
  {
   "cell_type": "code",
   "execution_count": 35,
   "metadata": {},
   "outputs": [
    {
     "name": "stdout",
     "output_type": "stream",
     "text": [
      "Name: gnp_random_graph(8361,0.00045068554218177467)\n",
      "Type: Graph\n",
      "Number of nodes: 8361\n",
      "Number of edges: 15650\n",
      "Average degree:   3.7436\n"
     ]
    }
   ],
   "source": [
    "N = G.number_of_nodes()\n",
    "L = G.size()\n",
    "p = 2*L/(N*(N-1))\n",
    "RG = nx.erdos_renyi_graph(N,p)\n",
    "print(nx.info(RG))"
   ]
  },
  {
   "cell_type": "code",
   "execution_count": 37,
   "metadata": {},
   "outputs": [
    {
     "data": {
      "text/plain": [
       "[<matplotlib.lines.Line2D at 0x115282dd8>]"
      ]
     },
     "execution_count": 37,
     "metadata": {},
     "output_type": "execute_result"
    },
    {
     "data": {
      "image/png": "[encoded data removed]",
      "text/plain": [
       "<matplotlib.figure.Figure at 0x1148fbe10>"
      ]
     },
     "metadata": {},
     "output_type": "display_data"
    }
   ],
   "source": [
    "random_attack_orderpars = [ np.mean([random_removal(RG, frac) for i in range(20)]) for frac in fractions ]\n",
    "targeted_attack_orderpars = [ np.mean([targeted_attack(RG, frac) for i in range(20)]) for frac in fractions ]\n",
    "plt.plot(fractions, random_attack_orderpars, color='black', lw=2)\n",
    "plt.plot(fractions, targeted_attack_orderpars, color='red', lw=2)"
   ]
  },
  {
   "cell_type": "code",
   "execution_count": 38,
   "metadata": {},
   "outputs": [
    {
     "name": "stdout",
     "output_type": "stream",
     "text": [
      "critical point for random attack: 0.793103448276\n",
      "critical point for targeted attack: 0.379310344828\n"
     ]
    }
   ],
   "source": [
    "print('critical point for random attack: '+str(find_critical_point(random_attack_orderpars,fractions)))\n",
    "print('critical point for targeted attack: '+ str(find_critical_point(targeted_attack_orderpars,fractions)))"
   ]
  },
  {
   "cell_type": "markdown",
   "metadata": {},
   "source": [
    "### Results:\n",
    "1. For the real network i used, it is scale-free, therefore, it is robust against random attacks, actually, the critical point for random attack is 0.86 which means that one needs to remove 86% of the nodes to break down the network. However, this network is vulnerable to targeted attacks aiming at hubs, the critical point is 0.17. This result is in line with our materials that while random node failures do not fragment a scale-free network, an attack that targets the hubs can easily destroy such network. \n",
    "2. For the random network, the critical point for random attack is 0.79, a little less than the real network. 0.79 is close to 1-1/avarage_degree. The critical point for targeted attack is 0.379, much larger than the one for real network because random network lacks hubs. Hence random network is more robust against targeted attacks. "
   ]
  }
 ],
 "metadata": {
  "kernelspec": {
   "display_name": "Python 3",
   "language": "python",
   "name": "python3"
  },
  "language_info": {
   "codemirror_mode": {
    "name": "ipython",
    "version": 3
   },
   "file_extension": ".py",
   "mimetype": "text/x-python",
   "name": "python",
   "nbconvert_exporter": "python",
   "pygments_lexer": "ipython3",
   "version": "3.6.0"
  }
 },
 "nbformat": 4,
 "nbformat_minor": 1
}
